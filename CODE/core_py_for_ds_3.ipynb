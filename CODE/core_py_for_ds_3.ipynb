{
 "cells": [
  {
   "cell_type": "markdown",
   "metadata": {},
   "source": [
    "# NumPy Deep Dive\n"
   ]
  },
  {
   "cell_type": "code",
   "execution_count": 1,
   "metadata": {},
   "outputs": [],
   "source": [
    "import numpy as np"
   ]
  },
  {
   "cell_type": "markdown",
   "metadata": {},
   "source": [
    "## Array Creation"
   ]
  },
  {
   "cell_type": "code",
   "execution_count": 2,
   "metadata": {},
   "outputs": [
    {
     "name": "stdout",
     "output_type": "stream",
     "text": [
      "Array a: [1 2 3]\n",
      "Zeros b:\n",
      " [[0. 0. 0.]\n",
      " [0. 0. 0.]]\n",
      "Ones c:\n",
      " [[1. 1.]\n",
      " [1. 1.]]\n",
      "Identity d:\n",
      " [[1. 0. 0.]\n",
      " [0. 1. 0.]\n",
      " [0. 0. 1.]]\n",
      "Random e:\n",
      " [[0.24161552 0.3444645  0.05884141 0.07261386 0.90077786]\n",
      " [0.63557675 0.94311205 0.75751662 0.12640012 0.70957646]\n",
      " [0.64789583 0.36186351 0.32175662 0.52327268 0.07186072]\n",
      " [0.07886041 0.71962613 0.2036793  0.05096059 0.52642922]]\n"
     ]
    }
   ],
   "source": [
    "a = np.array([1, 2, 3])\n",
    "b = np.zeros((2, 3))\n",
    "c = np.ones((2, 2))\n",
    "d = np.eye(3)  # Identity matrix\n",
    "e = np.random.rand(4, 5)\n",
    "\n",
    "print(\"Array a:\", a)\n",
    "print(\"Zeros b:\\n\", b)\n",
    "print(\"Ones c:\\n\", c)\n",
    "print(\"Identity d:\\n\", d)\n",
    "print(\"Random e:\\n\", e)"
   ]
  },
  {
   "cell_type": "markdown",
   "metadata": {},
   "source": [
    "## Slicing and Indexing"
   ]
  },
  {
   "cell_type": "code",
   "execution_count": 3,
   "metadata": {},
   "outputs": [
    {
     "name": "stdout",
     "output_type": "stream",
     "text": [
      "x[2:5]: [2 3 4]\n",
      "x[:3]: [0 1 2]\n",
      "x[-3:]: [7 8 9]\n"
     ]
    }
   ],
   "source": [
    "x = np.arange(10)\n",
    "print(\"x[2:5]:\", x[2:5])\n",
    "print(\"x[:3]:\", x[:3])\n",
    "print(\"x[-3:]:\", x[-3:])"
   ]
  },
  {
   "cell_type": "markdown",
   "metadata": {},
   "source": [
    "## Broadcasting Example"
   ]
  },
  {
   "cell_type": "code",
   "execution_count": 4,
   "metadata": {},
   "outputs": [
    {
     "name": "stdout",
     "output_type": "stream",
     "text": [
      "Broadcasted sum:\n",
      " [[1. 2. 3.]\n",
      " [1. 2. 3.]\n",
      " [1. 2. 3.]]\n"
     ]
    }
   ],
   "source": [
    "A = np.ones((3, 1))\n",
    "B = np.arange(3)\n",
    "print(\"Broadcasted sum:\\n\", A + B)"
   ]
  },
  {
   "cell_type": "markdown",
   "metadata": {},
   "source": [
    "## Vectorized vs Loop Performance"
   ]
  },
  {
   "cell_type": "code",
   "execution_count": 5,
   "metadata": {},
   "outputs": [
    {
     "name": "stdout",
     "output_type": "stream",
     "text": [
      "Vectorized time: 0.0015320777893066406\n",
      "Loop time: 0.17288494110107422\n"
     ]
    }
   ],
   "source": [
    "import time\n",
    "\n",
    "N = 1000000\n",
    "a = np.random.rand(N)\n",
    "b = np.random.rand(N)\n",
    "\n",
    "# Vectorized\n",
    "start = time.time()\n",
    "c = a + b\n",
    "print(\"Vectorized time:\", time.time() - start)\n",
    "\n",
    "# Loop\n",
    "start = time.time()\n",
    "c = [a[i] + b[i] for i in range(N)]\n",
    "print(\"Loop time:\", time.time() - start)"
   ]
  },
  {
   "cell_type": "markdown",
   "metadata": {},
   "source": [
    "## Linear Algebra with NumPy"
   ]
  },
  {
   "cell_type": "code",
   "execution_count": 6,
   "metadata": {},
   "outputs": [
    {
     "name": "stdout",
     "output_type": "stream",
     "text": [
      "Dot Product:\n",
      " [[ 4  4]\n",
      " [10  8]]\n",
      "Inverse of A:\n",
      " [[-2.   1. ]\n",
      " [ 1.5 -0.5]]\n",
      "Determinant of A: -2.0000000000000004\n"
     ]
    }
   ],
   "source": [
    "A = np.array([[1, 2], [3, 4]])\n",
    "B = np.array([[2, 0], [1, 2]])\n",
    "\n",
    "print(\"Dot Product:\\n\", A @ B)\n",
    "print(\"Inverse of A:\\n\", np.linalg.inv(A))\n",
    "print(\"Determinant of A:\", np.linalg.det(A))"
   ]
  }
 ],
 "metadata": {
  "kernelspec": {
   "display_name": "base",
   "language": "python",
   "name": "python3"
  },
  "language_info": {
   "codemirror_mode": {
    "name": "ipython",
    "version": 3
   },
   "file_extension": ".py",
   "mimetype": "text/x-python",
   "name": "python",
   "nbconvert_exporter": "python",
   "pygments_lexer": "ipython3",
   "version": "3.8.13"
  }
 },
 "nbformat": 4,
 "nbformat_minor": 5
}
