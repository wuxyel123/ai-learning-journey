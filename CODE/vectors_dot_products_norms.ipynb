{
 "cells": [
  {
   "cell_type": "code",
   "execution_count": 1,
   "metadata": {},
   "outputs": [
    {
     "name": "stdout",
     "output_type": "stream",
     "text": [
      "Dot product: 3\n",
      "Norm of a: 5.916079783099616\n",
      "Norm of b: 4.58257569495584\n",
      "Cosine of angle: 0.11065666703449763\n",
      "Angle (in radians): 1.4599125763126442\n"
     ]
    }
   ],
   "source": [
    "import numpy as np\n",
    "\n",
    "# Define two vectors\n",
    "a = np.array([1, 3, -5])\n",
    "b = np.array([4, -2, -1])\n",
    "\n",
    "# Compute the dot product\n",
    "dot_product = np.dot(a, b)\n",
    "\n",
    "# Compute the norms\n",
    "norm_a = np.linalg.norm(a)\n",
    "norm_b = np.linalg.norm(b)\n",
    "\n",
    "# Compute the cosine of the angle between a and b\n",
    "cos_theta = dot_product / (norm_a * norm_b)\n",
    "\n",
    "# Compute the angle in radians\n",
    "theta = np.arccos(cos_theta)\n",
    "\n",
    "print(f\"Dot product: {dot_product}\")\n",
    "print(f\"Norm of a: {norm_a}\")\n",
    "print(f\"Norm of b: {norm_b}\")\n",
    "print(f\"Cosine of angle: {cos_theta}\")\n",
    "print(f\"Angle (in radians): {theta}\")\n"
   ]
  }
 ],
 "metadata": {
  "kernelspec": {
   "display_name": "base",
   "language": "python",
   "name": "python3"
  },
  "language_info": {
   "codemirror_mode": {
    "name": "ipython",
    "version": 3
   },
   "file_extension": ".py",
   "mimetype": "text/x-python",
   "name": "python",
   "nbconvert_exporter": "python",
   "pygments_lexer": "ipython3",
   "version": "3.8.13"
  }
 },
 "nbformat": 4,
 "nbformat_minor": 2
}
