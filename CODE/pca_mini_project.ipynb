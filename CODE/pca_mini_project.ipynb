{
 "cells": [
  {
   "cell_type": "markdown",
   "id": "c6b049a7",
   "metadata": {},
   "source": [
    "# PCA Mini-Project Notebook\n",
    "This notebook implements PCA on a toy dataset step by step."
   ]
  },
  {
   "cell_type": "code",
   "execution_count": 1,
   "id": "bd378776",
   "metadata": {},
   "outputs": [],
   "source": [
    "import numpy as np\n",
    "from sklearn.preprocessing import StandardScaler\n",
    "from sklearn.decomposition import PCA\n",
    "import matplotlib.pyplot as plt"
   ]
  },
  {
   "cell_type": "markdown",
   "id": "ccdff004",
   "metadata": {},
   "source": [
    "## 1. Generate a Toy Dataset\n",
    "Create a synthetic dataset of 100 samples in three dimensions."
   ]
  },
  {
   "cell_type": "code",
   "execution_count": 2,
   "id": "bc97fb20",
   "metadata": {},
   "outputs": [
    {
     "data": {
      "text/plain": [
       "array([[0.5488135 , 0.98111202, 0.20747008],\n",
       "       [0.71518937, 1.52046138, 0.42468547],\n",
       "       [0.60276338, 1.252093  , 0.37416998],\n",
       "       [0.54488318, 0.936142  , 0.46357542],\n",
       "       [0.4236548 , 0.99613482, 0.27762871]])"
      ]
     },
     "execution_count": 2,
     "metadata": {},
     "output_type": "execute_result"
    }
   ],
   "source": [
    "np.random.seed(0)\n",
    "X1 = np.random.rand(100)\n",
    "X2 = 2 * X1 + 0.1 * np.random.randn(100)\n",
    "X3 = np.random.rand(100)\n",
    "X = np.vstack((X1, X2, X3)).T  # shape (100, 3)\n",
    "X[:5]"
   ]
  },
  {
   "cell_type": "markdown",
   "id": "2af001d7",
   "metadata": {},
   "source": [
    "## 2. Standardize the Data"
   ]
  },
  {
   "cell_type": "code",
   "execution_count": 3,
   "id": "a1277bcd",
   "metadata": {},
   "outputs": [
    {
     "data": {
      "text/plain": [
       "array([[ 0.26368103,  0.02792627, -0.90003632],\n",
       "       [ 0.84077065,  0.95249196, -0.17923133],\n",
       "       [ 0.45081101,  0.4924484 , -0.34686133],\n",
       "       [ 0.25004836, -0.04916243, -0.05017936],\n",
       "       [-0.17044317,  0.05367871, -0.66722275]])"
      ]
     },
     "execution_count": 3,
     "metadata": {},
     "output_type": "execute_result"
    }
   ],
   "source": [
    "scaler = StandardScaler()\n",
    "X_std = scaler.fit_transform(X)\n",
    "X_std[:5]"
   ]
  },
  {
   "cell_type": "markdown",
   "id": "e47f4bfa",
   "metadata": {},
   "source": [
    "## 3. Compute Covariance Matrix & Eigendecomposition"
   ]
  },
  {
   "cell_type": "code",
   "execution_count": 4,
   "id": "d2db1089",
   "metadata": {},
   "outputs": [
    {
     "data": {
      "text/plain": [
       "(array([2.02387361, 0.0140562 , 0.99237322]),\n",
       " array([[-0.69942586, -0.70545701, -0.1146031 ],\n",
       "        [-0.70204423,  0.70819393, -0.07480142],\n",
       "        [-0.13393041, -0.0281384 ,  0.99059118]]))"
      ]
     },
     "execution_count": 4,
     "metadata": {},
     "output_type": "execute_result"
    }
   ],
   "source": [
    "cov_mat = np.cov(X_std, rowvar=False)\n",
    "eig_vals, eig_vecs = np.linalg.eig(cov_mat)\n",
    "eig_vals, eig_vecs"
   ]
  },
  {
   "cell_type": "markdown",
   "id": "fec22cc1",
   "metadata": {},
   "source": [
    "## 4. Sort & Select Principal Components"
   ]
  },
  {
   "cell_type": "code",
   "execution_count": 8,
   "id": "04263206",
   "metadata": {},
   "outputs": [
    {
     "data": {
      "text/plain": [
       "array([[ 0.08348858, -0.92387562],\n",
       "       [ 1.2327437 , -0.34514765],\n",
       "       [ 0.61457416, -0.43209795],\n",
       "       [ 0.13365555, -0.07468613],\n",
       "       [-0.17088895, -0.64542689]])"
      ]
     },
     "execution_count": 8,
     "metadata": {},
     "output_type": "execute_result"
    }
   ],
   "source": [
    "idx = np.argsort(eig_vals)[::-1]\n",
    "W = eig_vecs[:, idx[:2]]  # shape (3,2)\n",
    "X_pca = X_std @ W\n",
    "# Multiply first component by -1 to match the original direction\n",
    "X_pca[:, 0] *= -1\n",
    "X_pca[:5]"
   ]
  },
  {
   "cell_type": "markdown",
   "id": "d73bf288",
   "metadata": {},
   "source": [
    "## 5. Compare with scikit-learn PCA"
   ]
  },
  {
   "cell_type": "code",
   "execution_count": 9,
   "id": "002ab69e",
   "metadata": {},
   "outputs": [
    {
     "data": {
      "text/plain": [
       "array([[ 0.08348858, -0.92387562],\n",
       "       [ 1.2327437 , -0.34514765],\n",
       "       [ 0.61457416, -0.43209795],\n",
       "       [ 0.13365555, -0.07468613],\n",
       "       [-0.17088895, -0.64542689]])"
      ]
     },
     "execution_count": 9,
     "metadata": {},
     "output_type": "execute_result"
    }
   ],
   "source": [
    "pca = PCA(n_components=2)\n",
    "X_skpca = pca.fit_transform(X_std)\n",
    "X_skpca[:5]"
   ]
  },
  {
   "cell_type": "markdown",
   "id": "5765b248",
   "metadata": {},
   "source": [
    "## 6. Visualization"
   ]
  },
  {
   "cell_type": "code",
   "execution_count": 10,
   "id": "abad8809",
   "metadata": {},
   "outputs": [
    {
     "data": {
      "image/png": "[encoded data removed]",
      "text/plain": [
       "<Figure size 600x400 with 1 Axes>"
      ]
     },
     "metadata": {},
     "output_type": "display_data"
    }
   ],
   "source": [
    "plt.figure(figsize=(6,4))\n",
    "plt.scatter(X_pca[:,0], X_pca[:,1], label=\"Manual PCA\")\n",
    "plt.scatter(X_skpca[:,0], X_skpca[:,1], alpha=0.6, label=\"sklearn PCA\")\n",
    "plt.legend()\n",
    "plt.title(\"PCA Projection Comparison\")\n",
    "plt.xlabel(\"PC1\")\n",
    "plt.ylabel(\"PC2\")\n",
    "plt.show()"
   ]
  },
  {
   "cell_type": "markdown",
   "id": "9bfdca3b",
   "metadata": {},
   "source": [
    "## 7. Exercises\n",
    "1. Plot explained variance ratio\n",
    "2. Reconstruct original data and compute MSE\n",
    "3. Add noise to features and repeat PCA\n",
    "4. Apply PCA to Iris dataset"
   ]
  }
 ],
 "metadata": {
  "kernelspec": {
   "display_name": "base",
   "language": "python",
   "name": "python3"
  },
  "language_info": {
   "codemirror_mode": {
    "name": "ipython",
    "version": 3
   },
   "file_extension": ".py",
   "mimetype": "text/x-python",
   "name": "python",
   "nbconvert_exporter": "python",
   "pygments_lexer": "ipython3",
   "version": "3.8.13"
  }
 },
 "nbformat": 4,
 "nbformat_minor": 5
}
