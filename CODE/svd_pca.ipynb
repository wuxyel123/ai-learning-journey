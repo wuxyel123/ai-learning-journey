{
 "cells": [
  {
   "cell_type": "code",
   "execution_count": 1,
   "metadata": {},
   "outputs": [
    {
     "name": "stdout",
     "output_type": "stream",
     "text": [
      "Singular values: [3.3994484  0.66464321]\n",
      "First principal component (direction): [-0.6778734  -0.73517866]\n",
      "Projected data (1D): [-0.82797019  1.77758033 -0.99219749 -0.27421042 -1.67580142 -0.9129491\n",
      "  0.09910944  1.14457216  0.43804614  1.22382056]\n"
     ]
    }
   ],
   "source": [
    "import numpy as np\n",
    "# Sample data matrix (observations × features)\n",
    "X = np.array([[2.5, 2.4],\n",
    "              [0.5, 0.7],\n",
    "              [2.2, 2.9],\n",
    "              [1.9, 2.2],\n",
    "              [3.1, 3.0],\n",
    "              [2.3, 2.7],\n",
    "              [2.0, 1.6],\n",
    "              [1.0, 1.1],\n",
    "              [1.5, 1.6],\n",
    "              [1.1, 0.9]])\n",
    "# Center\n",
    "X_centered = X - np.mean(X, axis=0)\n",
    "# SVD\n",
    "U, S, VT = np.linalg.svd(X_centered)\n",
    "# Principal components (loadings)\n",
    "V = VT.T\n",
    "# Project onto first component\n",
    "X_pca1 = X_centered @ V[:, 0]\n",
    "print(\"Singular values:\", S)\n",
    "print(\"First principal component (direction):\", V[:, 0])\n",
    "print(\"Projected data (1D):\", X_pca1)"
   ]
  }
 ],
 "metadata": {
  "kernelspec": {
   "display_name": "base",
   "language": "python",
   "name": "python3"
  },
  "language_info": {
   "codemirror_mode": {
    "name": "ipython",
    "version": 3
   },
   "file_extension": ".py",
   "mimetype": "text/x-python",
   "name": "python",
   "nbconvert_exporter": "python",
   "pygments_lexer": "ipython3",
   "version": "3.8.13"
  }
 },
 "nbformat": 4,
 "nbformat_minor": 2
}
