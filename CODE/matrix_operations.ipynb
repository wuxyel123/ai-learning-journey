{
 "cells": [
  {
   "cell_type": "code",
   "execution_count": 1,
   "metadata": {},
   "outputs": [
    {
     "name": "stdout",
     "output_type": "stream",
     "text": [
      "A + B =\n",
      " [[ 6  8]\n",
      " [10 12]]\n",
      "3 * A =\n",
      " [[ 3  6]\n",
      " [ 9 12]]\n",
      "A @ B =\n",
      " [[19 22]\n",
      " [43 50]]\n",
      "A^T =\n",
      " [[1 3]\n",
      " [2 4]]\n",
      "Identity I =\n",
      " [[1. 0.]\n",
      " [0. 1.]]\n",
      "Zero Z =\n",
      " [[0. 0.]\n",
      " [0. 0.]]\n"
     ]
    }
   ],
   "source": [
    "import numpy as np\n",
    "\n",
    "# Example matrices\n",
    "A = np.array([[1, 2], [3, 4]])\n",
    "B = np.array([[5, 6], [7, 8]])\n",
    "\n",
    "# Matrix addition\n",
    "C_add = A + B\n",
    "\n",
    "# Scalar multiplication\n",
    "C_scalar = 3 * A\n",
    "\n",
    "# Matrix multiplication\n",
    "C_mul = A @ B\n",
    "\n",
    "# Transpose\n",
    "A_T = A.T\n",
    "\n",
    "# Identity and zero matrices\n",
    "I = np.eye(2)\n",
    "Z = np.zeros((2, 2))\n",
    "\n",
    "print(\"A + B =\\n\", C_add)\n",
    "print(\"3 * A =\\n\", C_scalar)\n",
    "print(\"A @ B =\\n\", C_mul)\n",
    "print(\"A^T =\\n\", A_T)\n",
    "print(\"Identity I =\\n\", I)\n",
    "print(\"Zero Z =\\n\", Z)"
   ]
  }
 ],
 "metadata": {
  "kernelspec": {
   "display_name": "base",
   "language": "python",
   "name": "python3"
  },
  "language_info": {
   "codemirror_mode": {
    "name": "ipython",
    "version": 3
   },
   "file_extension": ".py",
   "mimetype": "text/x-python",
   "name": "python",
   "nbconvert_exporter": "python",
   "pygments_lexer": "ipython3",
   "version": "3.8.13"
  }
 },
 "nbformat": 4,
 "nbformat_minor": 2
}
