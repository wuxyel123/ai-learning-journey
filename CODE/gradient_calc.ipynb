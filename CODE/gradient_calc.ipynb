{
 "cells": [
  {
   "cell_type": "markdown",
   "metadata": {},
   "source": [
    "# Gradient calculation"
   ]
  },
  {
   "cell_type": "code",
   "execution_count": 1,
   "metadata": {},
   "outputs": [
    {
     "name": "stdout",
     "output_type": "stream",
     "text": [
      "[18.7781122  8.3890561]\n"
     ]
    }
   ],
   "source": [
    "import numpy as np\n",
    "\n",
    "def f(x, y):\n",
    "    return x**2 * y + np.exp(x * y)\n",
    "\n",
    "h = 1e-5\n",
    "x0, y0 = 1.0, 2.0\n",
    "\n",
    "# Partial wrt x\n",
    "df_dx = (f(x0 + h, y0) - f(x0 - h, y0)) / (2 * h)\n",
    "# Partial wrt y\n",
    "df_dy = (f(x0, y0 + h) - f(x0, y0 - h)) / (2 * h)\n",
    "\n",
    "grad = np.array([df_dx, df_dy])\n",
    "print(grad)"
   ]
  },
  {
   "cell_type": "markdown",
   "metadata": {},
   "source": [
    "# One step of gradient descent"
   ]
  },
  {
   "cell_type": "code",
   "execution_count": 2,
   "metadata": {},
   "outputs": [
    {
     "name": "stdout",
     "output_type": "stream",
     "text": [
      "Updated w, b: 0.73 0.0775\n"
     ]
    }
   ],
   "source": [
    "import numpy as np\n",
    "\n",
    "# Synthetic data\n",
    "x = np.array([1., 2., 3., 4.])\n",
    "t = np.array([2.3, 4.1, 5.9, 8.2])\n",
    "w, b = 0.5, 0.0\n",
    "lr = 0.01\n",
    "N = x.size\n",
    "\n",
    "def gradients(w, b, x, t):\n",
    "    y = w * x + b\n",
    "    error = y - t\n",
    "    dw = (2 / N) * np.dot(error, x)\n",
    "    db = (2 / N) * np.sum(error)\n",
    "    return dw, db\n",
    "\n",
    "# Single update step\n",
    "dw, db = gradients(w, b, x, t)\n",
    "w -= lr * dw\n",
    "b -= lr * db\n",
    "print(\"Updated w, b:\", w, b)"
   ]
  }
 ],
 "metadata": {
  "kernelspec": {
   "display_name": "base",
   "language": "python",
   "name": "python3"
  },
  "language_info": {
   "codemirror_mode": {
    "name": "ipython",
    "version": 3
   },
   "file_extension": ".py",
   "mimetype": "text/x-python",
   "name": "python",
   "nbconvert_exporter": "python",
   "pygments_lexer": "ipython3",
   "version": "3.8.13"
  }
 },
 "nbformat": 4,
 "nbformat_minor": 2
}
