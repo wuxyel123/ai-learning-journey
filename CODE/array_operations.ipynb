{
 "cells": [
  {
   "cell_type": "markdown",
   "metadata": {},
   "source": [
    "1. Array Creation\n",
    "From Python sequences: np.array([1, 2, 3]), np.array([[1, 2], [3, 4]])\n",
    "\n",
    "Zeros, ones, empty: np.zeros((m, n)), np.ones((m, n)), np.empty((m, n))\n",
    "\n",
    "Arange and linspace: np.arange(start, stop, step), np.linspace(start, stop, num)\n",
    "\n",
    "Random arrays: np.random.rand(m, n), np.random.randn(m, n)\n",
    "\n",
    "2. Indexing & Slicing\n",
    "Basic slicing: a[1:4], a[:, 2], a[1:3, 0:2]\n",
    "\n",
    "Negative indices: Access from end, e.g., a[-1] for last row\n",
    "\n",
    "Boolean indexing: a[a > 0] filters elements satisfying a condition\n",
    "\n",
    "Fancy indexing: a[[0, 2, 4], [1, 3, 5]] picks specific elements by index arrays\n",
    "\n",
    "3. Broadcasting\n",
    "Concept: Allows arithmetic on arrays of different shapes by “stretching” dimensions\n",
    "\n",
    "Rules: Align trailing dimensions; dimensions must be equal or 1\n",
    "\n",
    "Example:"
   ]
  },
  {
   "cell_type": "code",
   "execution_count": null,
   "metadata": {
    "vscode": {
     "languageId": "plaintext"
    }
   },
   "outputs": [],
   "source": [
    "a = np.array([[1, 2, 3], [4, 5, 6]])  # shape (2, 3)\n",
    "b = np.array([10, 20, 30])           # shape (3,)\n",
    "c = a + b                            # b broadcast to (2, 3)\n"
   ]
  },
  {
   "cell_type": "markdown",
   "metadata": {},
   "source": [
    "4. Reshaping & Transpose\n",
    "Reshape: a.reshape((new_m, new_n)), view vs. copy\n",
    "\n",
    "ravel/flatten: a.ravel(), a.flatten() to 1-D\n",
    "\n",
    "Transpose: a.T or np.transpose(a) swaps axes\n",
    "\n",
    "5. Joining & Splitting Arrays\n",
    "Concatenation: np.concatenate([a, b], axis=0) stacks along existing axis\n",
    "\n",
    "Stack: np.stack([a, b], axis=0) adds new axis\n",
    "\n",
    "Splitting: np.split(a, indices_or_sections, axis=…), np.hsplit, np.vsplit\n",
    "\n",
    "6. Universal Functions & Reductions\n",
    "Universal functions (ufuncs): vectorized np.sin(a), np.exp(a), np.sqrt(a)\n",
    "\n",
    "Reductions: a.sum(), a.mean(), a.max(), a.min(), a.cumsum(), with axis argument\n",
    "\n",
    "Example:"
   ]
  },
  {
   "cell_type": "code",
   "execution_count": null,
   "metadata": {
    "vscode": {
     "languageId": "plaintext"
    }
   },
   "outputs": [],
   "source": [
    "x = np.arange(12).reshape(3, 4)\n",
    "x_sum_cols = x.sum(axis=0)  # shape (4,)\n",
    "x_cumrows = x.cumsum(axis=1)\n"
   ]
  }
 ],
 "metadata": {
  "language_info": {
   "name": "python"
  }
 },
 "nbformat": 4,
 "nbformat_minor": 2
}
